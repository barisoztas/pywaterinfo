{
 "cells": [
  {
   "cell_type": "code",
   "execution_count": null,
   "id": "d87954fc",
   "metadata": {},
   "outputs": [],
   "source": [
    "%load_ext autoreload\n",
    "%autoreload 2"
   ]
  },
  {
   "cell_type": "code",
   "execution_count": null,
   "id": "2f1e6c88",
   "metadata": {},
   "outputs": [],
   "source": [
    "from IPython.core.interactiveshell import InteractiveShell\n",
    "InteractiveShell.ast_node_interactivity = \"all\""
   ]
  },
  {
   "cell_type": "code",
   "execution_count": null,
   "id": "61c59fa0",
   "metadata": {},
   "outputs": [],
   "source": [
    "import matplotlib.pyplot as plt\n",
    "import matplotlib.dates as mdates \n",
    "import matplotlib\n",
    "\n",
    "matplotlib.rcParams.update(\n",
    "    {\n",
    "        \"font.family\": \"monospace\",  # or 'serif', 'monospace', etc.\n",
    "        \"font.size\": 12,  # set the default font size\n",
    "        \"figure.figsize\": (15, 8),\n",
    "        \"figure.dpi\": 300,\n",
    "    }\n",
    ")\n",
    "\n"
   ]
  },
  {
   "cell_type": "code",
   "execution_count": null,
   "id": "fb598531",
   "metadata": {},
   "outputs": [],
   "source": [
    "import sys\n",
    "import logging\n",
    "logging.basicConfig(level=logging.INFO)"
   ]
  },
  {
   "cell_type": "code",
   "execution_count": null,
   "id": "00591562",
   "metadata": {},
   "outputs": [],
   "source": [
    "from pywaterinfo import Waterinfo\n",
    "from pywaterinfo.utils import enriched_tsgroupids_table"
   ]
  },
  {
   "cell_type": "code",
   "execution_count": null,
   "id": "18000fce",
   "metadata": {},
   "outputs": [],
   "source": [
    "import numpy as np\n",
    "import pandas as pd"
   ]
  },
  {
   "cell_type": "code",
   "execution_count": null,
   "id": "faf84772",
   "metadata": {},
   "outputs": [],
   "source": [
    "import holoviews as hv\n",
    "import hvplot.pandas"
   ]
  },
  {
   "cell_type": "code",
   "execution_count": null,
   "id": "1ac90981",
   "metadata": {},
   "outputs": [],
   "source": [
    "vmm_grid = Waterinfo(provider=\"vmm_grid\", cache=True)\n",
    "# vmm_grid = Waterinfo(provider=\"vmm_grid\", cache=False)"
   ]
  },
  {
   "cell_type": "code",
   "execution_count": null,
   "id": "f7d9d9ed",
   "metadata": {},
   "outputs": [],
   "source": [
    "request_dict = {\n",
    "    \"request\":\"getRasterFile\",\n",
    "    \"ts_id\":\"911010\",\n",
    "    \"date\":\"2025-09-12\",\n",
    "    \"format\":\"geotiff\"\n",
    "}"
   ]
  },
  {
   "cell_type": "code",
   "execution_count": null,
   "id": "ad8271bb",
   "metadata": {},
   "outputs": [],
   "source": [
    "res = vmm_grid.request_kiwis_grid(\n",
    "    request_dict,\n",
    "    filename=\"output_test\"\n",
    ")"
   ]
  }
 ],
 "metadata": {
  "kernelspec": {
   "display_name": "pywaterinfo",
   "language": "python",
   "name": "python3"
  },
  "language_info": {
   "codemirror_mode": {
    "name": "ipython",
    "version": 3
   },
   "file_extension": ".py",
   "mimetype": "text/x-python",
   "name": "python",
   "nbconvert_exporter": "python",
   "pygments_lexer": "ipython3",
   "version": "3.11.13"
  }
 },
 "nbformat": 4,
 "nbformat_minor": 5
}
