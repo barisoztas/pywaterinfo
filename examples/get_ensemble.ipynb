{
 "cells": [
  {
   "cell_type": "code",
   "execution_count": null,
   "id": "5d03861a",
   "metadata": {},
   "outputs": [],
   "source": [
    "%load_ext autoreload\n",
    "%autoreload 2"
   ]
  },
  {
   "cell_type": "code",
   "execution_count": null,
   "id": "f449c3b8",
   "metadata": {},
   "outputs": [],
   "source": [
    "from IPython.core.interactiveshell import InteractiveShell\n",
    "InteractiveShell.ast_node_interactivity = \"all\""
   ]
  },
  {
   "cell_type": "code",
   "execution_count": null,
   "id": "9d6095ac",
   "metadata": {},
   "outputs": [],
   "source": [
    "import hvplot.pandas\n",
    "import matplotlib.pyplot as plt\n",
    "import pandas as pd"
   ]
  },
  {
   "cell_type": "code",
   "execution_count": null,
   "id": "a7d3454d",
   "metadata": {},
   "outputs": [],
   "source": [
    "from pywaterinfo import Waterinfo"
   ]
  },
  {
   "cell_type": "code",
   "execution_count": null,
   "id": "0be09063",
   "metadata": {},
   "outputs": [],
   "source": [
    "hic = Waterinfo(\"hic\")"
   ]
  },
  {
   "cell_type": "code",
   "execution_count": null,
   "id": "0172d209",
   "metadata": {},
   "outputs": [],
   "source": [
    "hic"
   ]
  },
  {
   "cell_type": "code",
   "execution_count": null,
   "id": "85172878",
   "metadata": {},
   "outputs": [],
   "source": [
    "list(hic._kiwis_info.keys())"
   ]
  },
  {
   "cell_type": "code",
   "execution_count": null,
   "id": "2f099bdd",
   "metadata": {},
   "outputs": [],
   "source": [
    "hic._kiwis_info[\"getTimeseriesEnsembleValues\"]"
   ]
  },
  {
   "cell_type": "code",
   "execution_count": null,
   "id": "3a58bf5f",
   "metadata": {},
   "outputs": [],
   "source": [
    "list(hic._kiwis_info[\"getTimeseriesEnsembleValues\"].keys())"
   ]
  },
  {
   "cell_type": "code",
   "execution_count": null,
   "id": "a7a80def",
   "metadata": {},
   "outputs": [],
   "source": [
    "hic._kiwis_info[\"getTimeseriesEnsembleValues\"][\"Optionalfields\"]"
   ]
  },
  {
   "cell_type": "code",
   "execution_count": null,
   "id": "ae41208e",
   "metadata": {},
   "outputs": [],
   "source": [
    "hic._kiwis_info[\"getTimeseriesValues\"][\"Returnfields\"]"
   ]
  },
  {
   "cell_type": "code",
   "execution_count": null,
   "id": "6e4af7e8",
   "metadata": {},
   "outputs": [],
   "source": [
    "hic._kiwis_info[\"getTimeseriesEnsembleValues\"][\"Returnfields\"]"
   ]
  },
  {
   "cell_type": "code",
   "execution_count": null,
   "id": "e429e37c",
   "metadata": {},
   "outputs": [],
   "source": [
    "data = hic.get_ensemble_timeseries_values(\n",
    "    period=\"P1DT12H\"\n",
    ")"
   ]
  },
  {
   "cell_type": "code",
   "execution_count": null,
   "id": "9e2e7895",
   "metadata": {},
   "outputs": [],
   "source": [
    "data.hvplot(x='Timestamp', y='value',by='ensembledate')"
   ]
  },
  {
   "cell_type": "code",
   "execution_count": null,
   "id": "4d1c5017",
   "metadata": {},
   "outputs": [],
   "source": [
    "data = hic.get_ensemble_timeseries_values(\n",
    "    start=\"2025-06-01T00:00:00Z\",\n",
    "    end=\"2025-06-02T00:00:00Z\",\n",
    ")\n",
    "\n",
    "# data = hic.get_ensemble_timeseries_values(\n",
    "#     start=datetime.datetime.now() - datetime.timedelta(days=2),\n",
    "#     end=datetime.datetime.now(),    \n",
    "# )"
   ]
  },
  {
   "cell_type": "code",
   "execution_count": null,
   "id": "33c86eda",
   "metadata": {},
   "outputs": [],
   "source": [
    "data"
   ]
  },
  {
   "cell_type": "code",
   "execution_count": null,
   "id": "d1ed2b1e",
   "metadata": {},
   "outputs": [],
   "source": [
    "data"
   ]
  },
  {
   "cell_type": "code",
   "execution_count": null,
   "id": "6aadb380",
   "metadata": {},
   "outputs": [],
   "source": [
    "data.hvplot(x='Timestamp', y='value',by='ensembledate')"
   ]
  }
 ],
 "metadata": {
  "kernelspec": {
   "display_name": "pywaterinfo",
   "language": "python",
   "name": "python3"
  },
  "language_info": {
   "codemirror_mode": {
    "name": "ipython",
    "version": 3
   },
   "file_extension": ".py",
   "mimetype": "text/x-python",
   "name": "python",
   "nbconvert_exporter": "python",
   "pygments_lexer": "ipython3",
   "version": "3.11.13"
  }
 },
 "nbformat": 4,
 "nbformat_minor": 5
}
