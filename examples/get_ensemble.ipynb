{
 "cells": [
  {
   "cell_type": "code",
   "execution_count": null,
   "id": "5d03861a",
   "metadata": {},
   "outputs": [],
   "source": [
    "%load_ext autoreload\n",
    "%autoreload 2"
   ]
  },
  {
   "cell_type": "code",
   "execution_count": null,
   "id": "a7d3454d",
   "metadata": {},
   "outputs": [],
   "source": [
    "from pywaterinfo import Waterinfo"
   ]
  },
  {
   "cell_type": "code",
   "execution_count": null,
   "id": "0be09063",
   "metadata": {},
   "outputs": [],
   "source": [
    "hic = Waterinfo(\"hic\")"
   ]
  },
  {
   "cell_type": "code",
   "execution_count": null,
   "id": "0172d209",
   "metadata": {},
   "outputs": [],
   "source": [
    "hic"
   ]
  },
  {
   "cell_type": "code",
   "execution_count": null,
   "id": "85172878",
   "metadata": {},
   "outputs": [],
   "source": [
    "list(hic._kiwis_info.keys())"
   ]
  },
  {
   "cell_type": "code",
   "execution_count": null,
   "id": "2f099bdd",
   "metadata": {},
   "outputs": [],
   "source": [
    "hic._kiwis_info[\"getTimeseriesEnsembleValues\"]"
   ]
  },
  {
   "cell_type": "code",
   "execution_count": null,
   "id": "3a58bf5f",
   "metadata": {},
   "outputs": [],
   "source": [
    "list(hic._kiwis_info[\"getTimeseriesEnsembleValues\"].keys())"
   ]
  },
  {
   "cell_type": "code",
   "execution_count": null,
   "id": "a7a80def",
   "metadata": {},
   "outputs": [],
   "source": [
    "hic._kiwis_info[\"getTimeseriesEnsembleValues\"][\"Optionalfields\"]"
   ]
  },
  {
   "cell_type": "code",
   "execution_count": null,
   "id": "ae41208e",
   "metadata": {},
   "outputs": [],
   "source": [
    "hic._kiwis_info[\"getTimeseriesValues\"][\"Returnfields\"]"
   ]
  },
  {
   "cell_type": "code",
   "execution_count": null,
   "id": "6e4af7e8",
   "metadata": {},
   "outputs": [],
   "source": [
    "hic._kiwis_info[\"getTimeseriesEnsembleValues\"][\"Returnfields\"]"
   ]
  },
  {
   "cell_type": "code",
   "execution_count": null,
   "id": "e429e37c",
   "metadata": {},
   "outputs": [],
   "source": [
    "data, response = hic.get_ensemble_timeseries_values(\n",
    "    period=\"P1DT12H\"\n",
    ")"
   ]
  },
  {
   "cell_type": "code",
   "execution_count": null,
   "id": "9e2e7895",
   "metadata": {},
   "outputs": [],
   "source": [
    "import datetime"
   ]
  },
  {
   "cell_type": "code",
   "execution_count": null,
   "id": "4d1c5017",
   "metadata": {},
   "outputs": [],
   "source": [
    "data, response = hic.get_ensemble_timeseries_values(\n",
    "    start=\"2025-06-01T00:00:00Z\",\n",
    "    end=\"2025-06-03T00:00:00Z\",\n",
    ")\n",
    "\n",
    "data, response = hic.get_ensemble_timeseries_values(\n",
    "    start=datetime.datetime.now() - datetime.timedelta(days=2),\n",
    "    end=datetime.datetime.now(),    \n",
    ")"
   ]
  },
  {
   "cell_type": "code",
   "execution_count": null,
   "id": "d48ce5a3",
   "metadata": {},
   "outputs": [],
   "source": [
    "import pandas as pd"
   ]
  },
  {
   "cell_type": "code",
   "execution_count": null,
   "id": "6a9be452",
   "metadata": {},
   "outputs": [],
   "source": [
    "pd.DataFrame(data['84021010'])"
   ]
  },
  {
   "cell_type": "code",
   "execution_count": null,
   "id": "dc3567c7",
   "metadata": {},
   "outputs": [],
   "source": [
    "df_group_list = hic.get_group_list()"
   ]
  },
  {
   "cell_type": "code",
   "execution_count": null,
   "id": "7af93504",
   "metadata": {},
   "outputs": [],
   "source": [
    "df_group_list"
   ]
  },
  {
   "cell_type": "code",
   "execution_count": null,
   "id": "a1208e98",
   "metadata": {},
   "outputs": [],
   "source": [
    "df_group_list[\"group_type\"].unique()\n",
    "\n",
    "# # filter if group_type is ensemble\n",
    "df_group_list_ensembles = df_group_list[df_group_list[\"group_type\"] == \"timeseries\"]\n",
    "\n"
   ]
  },
  {
   "cell_type": "code",
   "execution_count": null,
   "id": "afd57a23",
   "metadata": {},
   "outputs": [],
   "source": [
    "df_group_list_ensembles['group_name']"
   ]
  },
  {
   "cell_type": "markdown",
   "id": "7ad25676",
   "metadata": {},
   "source": [
    "# VMM examples"
   ]
  },
  {
   "cell_type": "markdown",
   "id": "9905e4cc",
   "metadata": {},
   "source": [
    "vmm = Waterinfo(\"vmm\")"
   ]
  },
  {
   "cell_type": "code",
   "execution_count": null,
   "id": "688713d6",
   "metadata": {},
   "outputs": [],
   "source": [
    "vmm = Waterinfo(\"vmm\")"
   ]
  },
  {
   "cell_type": "code",
   "execution_count": null,
   "id": "1676cef2",
   "metadata": {},
   "outputs": [],
   "source": [
    "vmm.get_group_list()['group_type'].unique()"
   ]
  },
  {
   "cell_type": "code",
   "execution_count": null,
   "id": "82c1ae40",
   "metadata": {},
   "outputs": [],
   "source": [
    "df = vmm.get_timeseries_value_layer(ts_id=78124042)"
   ]
  },
  {
   "cell_type": "code",
   "execution_count": null,
   "id": "55969986",
   "metadata": {},
   "outputs": [],
   "source": [
    "df"
   ]
  },
  {
   "cell_type": "code",
   "execution_count": null,
   "id": "4bdb03a9",
   "metadata": {},
   "outputs": [],
   "source": [
    "df = vmm.get_timeseries_value_layer(timeseriesgroup_id=192928,\n",
    "                                     date=\"20190501\")\n",
    "df"
   ]
  },
  {
   "cell_type": "code",
   "execution_count": null,
   "id": "1b1f783a",
   "metadata": {},
   "outputs": [],
   "source": [
    "vmm.get_ensemble_timeseries_values()"
   ]
  },
  {
   "cell_type": "code",
   "execution_count": null,
   "id": "2b15bc43",
   "metadata": {},
   "outputs": [],
   "source": []
  }
 ],
 "metadata": {
  "kernelspec": {
   "display_name": "pywaterinfo",
   "language": "python",
   "name": "python3"
  },
  "language_info": {
   "codemirror_mode": {
    "name": "ipython",
    "version": 3
   },
   "file_extension": ".py",
   "mimetype": "text/x-python",
   "name": "python",
   "nbconvert_exporter": "python",
   "pygments_lexer": "ipython3",
   "version": "3.11.13"
  }
 },
 "nbformat": 4,
 "nbformat_minor": 5
}
